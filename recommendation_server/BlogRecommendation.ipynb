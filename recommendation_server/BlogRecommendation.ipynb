{
 "cells": [
  {
   "cell_type": "code",
   "execution_count": 28,
   "metadata": {},
   "outputs": [],
   "source": [
    "# Imports\n",
    "from pymongo import MongoClient\n",
    "import pandas as pd\n",
    "from surprise import Dataset, Reader, SVD\n",
    "from surprise.model_selection import train_test_split\n",
    "from surprise import accuracy\n",
    "from surprise.dump import dump, load"
   ]
  },
  {
   "cell_type": "code",
   "execution_count": 29,
   "metadata": {},
   "outputs": [],
   "source": [
    "# Connect to MongoDB\n",
    "client = MongoClient('')\n",
    "db = client['']"
   ]
  },
  {
   "cell_type": "code",
   "execution_count": 30,
   "metadata": {},
   "outputs": [],
   "source": [
    "# Import Data\n",
    "blogs_collection = db['blogs']\n",
    "users_collection = db['users']"
   ]
  },
  {
   "cell_type": "code",
   "execution_count": 31,
   "metadata": {},
   "outputs": [],
   "source": [
    "# Retrieve data from MongoDB and prepare it for Surprise library\n",
    "user_item_rating_data = []\n",
    "\n",
    "# Iterate through users to collect their interactions\n",
    "for user in users_collection.find():\n",
    "    user_id = str(user['_id'])\n",
    "    user_interests = user.get('myInterests', [])\n",
    "    following = user.get('following', [])\n",
    "    articles_read = user.get('readArticles', [])\n",
    "    articles_wrote = user.get('blogs', [])\n",
    "    for blog in blogs_collection.find():\n",
    "        item_id = str(blog['_id'])\n",
    "        # Calculate rating based on user interactions\n",
    "        rating = 0\n",
    "        if item_id in articles_read:\n",
    "            rating += 1  # Increment rating if the user has read the article\n",
    "        if item_id in articles_wrote:\n",
    "            rating += 2  # Increment rating if the user has written the article\n",
    "        if blog.get('tags') and any(tag in user_interests for tag in blog['tags']):\n",
    "            rating += 0.5  # Increment rating if the article matches user interests\n",
    "        if item_id in following:\n",
    "            rating += 0.5  # Increment rating if the user is following the author\n",
    "        rating += blog.get('views', 0) * 0.1  # Increment rating based on views\n",
    "        rating += blog.get('likesCount', 0) * 0.5  # Increment rating based on likes\n",
    "        user_item_rating_data.append({'user_id': user_id, 'item_id': item_id, 'rating': rating})"
   ]
  },
  {
   "cell_type": "code",
   "execution_count": 32,
   "metadata": {},
   "outputs": [],
   "source": [
    "# Create a Surprise dataset\n",
    "reader = Reader(rating_scale=(0, 10))  # Assuming ratings can be from 0 to 10\n",
    "data = Dataset.load_from_df(pd.DataFrame(user_item_rating_data), reader)\n"
   ]
  },
  {
   "cell_type": "code",
   "execution_count": 33,
   "metadata": {},
   "outputs": [],
   "source": [
    "# Split the data into train and test sets\n",
    "trainset, testset = train_test_split(data, test_size=0.2)"
   ]
  },
  {
   "cell_type": "code",
   "execution_count": 34,
   "metadata": {},
   "outputs": [
    {
     "data": {
      "text/plain": [
       "<surprise.prediction_algorithms.matrix_factorization.SVD at 0x7f6c70484ad0>"
      ]
     },
     "execution_count": 34,
     "metadata": {},
     "output_type": "execute_result"
    }
   ],
   "source": [
    "# Train the SVD model\n",
    "model = SVD()\n",
    "model.fit(trainset)"
   ]
  },
  {
   "cell_type": "code",
   "execution_count": 35,
   "metadata": {},
   "outputs": [
    {
     "name": "stdout",
     "output_type": "stream",
     "text": [
      "RMSE: 0.0748\n"
     ]
    },
    {
     "data": {
      "text/plain": [
       "0.07481597834540397"
      ]
     },
     "execution_count": 35,
     "metadata": {},
     "output_type": "execute_result"
    }
   ],
   "source": [
    "# Make predictions\n",
    "predictions = model.test(testset)\n",
    "accuracy.rmse(predictions) # Print RMSE"
   ]
  },
  {
   "cell_type": "code",
   "execution_count": 36,
   "metadata": {},
   "outputs": [],
   "source": [
    "model_dump_file = 'model.dump'\n",
    "dump(model_dump_file, algo=model)"
   ]
  },
  {
   "cell_type": "code",
   "execution_count": 37,
   "metadata": {},
   "outputs": [],
   "source": [
    "# Make recommendations\n",
    "def get_top_n_recommendations(model, user_id, n=10):\n",
    "    # Get a list of all items not interacted by the user\n",
    "    loaded_model_tuple = load(model_dump_file)\n",
    "\n",
    "    loaded_model = loaded_model_tuple[1]\n",
    "\n",
    "    all_items = set(blogs_collection.distinct('_id'))\n",
    "    user_interacted_items = set([str(d['item_id']) for d in user_item_rating_data if str(d['user_id']) == user_id])\n",
    "    unrated_items = list(all_items - user_interacted_items)\n",
    "    \n",
    "    # Predict ratings for these unrated items\n",
    "    predictions = [(item_id, loaded_model.predict(user_id, item_id).est) for item_id in unrated_items]\n",
    "    \n",
    "    # Sort the predictions by rating and return the top n\n",
    "    top_n = sorted(predictions, key=lambda x: x[1], reverse=True)[:n]\n",
    "    \n",
    "    return top_n"
   ]
  },
  {
   "cell_type": "code",
   "execution_count": 38,
   "metadata": {},
   "outputs": [
    {
     "name": "stdout",
     "output_type": "stream",
     "text": [
      "Top recommendations for user 65edf0a75c3dc4f29e99ac0c: [(ObjectId('65edf0a85c3dc4f29e99ac62'), 0.5711992978300651), (ObjectId('65edf0a85c3dc4f29e99ad79'), 0.5711992978300651), (ObjectId('65edf0a85c3dc4f29e99acb9'), 0.5711992978300651), (ObjectId('65edf0a85c3dc4f29e99ac52'), 0.5711992978300651), (ObjectId('65edf0a85c3dc4f29e99ad06'), 0.5711992978300651), (ObjectId('65edf0a85c3dc4f29e99ace5'), 0.5711992978300651), (ObjectId('65edf0a85c3dc4f29e99ad8a'), 0.5711992978300651), (ObjectId('65edf0a85c3dc4f29e99ac95'), 0.5711992978300651), (ObjectId('65edf0a85c3dc4f29e99ad12'), 0.5711992978300651), (ObjectId('65edf0a85c3dc4f29e99ad88'), 0.5711992978300651)]\n"
     ]
    }
   ],
   "source": [
    "# Example usage:\n",
    "user_id = '65edf0a75c3dc4f29e99ac0c'  # Example user ID\n",
    "top_recommendations = get_top_n_recommendations(model, user_id)\n",
    "print(\"Top recommendations for user {}: {}\".format(user_id, top_recommendations))"
   ]
  }
 ],
 "metadata": {
  "kernelspec": {
   "display_name": "Python 3",
   "language": "python",
   "name": "python3"
  },
  "language_info": {
   "codemirror_mode": {
    "name": "ipython",
    "version": 3
   },
   "file_extension": ".py",
   "mimetype": "text/x-python",
   "name": "python",
   "nbconvert_exporter": "python",
   "pygments_lexer": "ipython3",
   "version": "3.11.8"
  }
 },
 "nbformat": 4,
 "nbformat_minor": 2
}
